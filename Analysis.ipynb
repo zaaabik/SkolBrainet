{
 "cells": [
  {
   "cell_type": "code",
   "execution_count": 78,
   "metadata": {},
   "outputs": [],
   "source": [
    "import numpy as np\n",
    "import os\n",
    "import matplotlib.pyplot as plt\n",
    "import nibabel as nib\n",
    "from medpy.metric.binary import dc\n",
    "from tqdm import tqdm\n",
    "from numpy import genfromtxt\n",
    "import pandas as pd"
   ]
  },
  {
   "cell_type": "markdown",
   "metadata": {},
   "source": [
    "# The Model we use"
   ]
  },
  {
   "cell_type": "code",
   "execution_count": 3,
   "metadata": {},
   "outputs": [],
   "source": [
    "loss = genfromtxt('loss.csv', delimiter=',')"
   ]
  },
  {
   "cell_type": "code",
   "execution_count": 4,
   "metadata": {},
   "outputs": [
    {
     "data": {
      "image/png": "[encoded data removed]",
      "text/plain": [
       "<Figure size 432x288 with 1 Axes>"
      ]
     },
     "metadata": {
      "needs_background": "light"
     },
     "output_type": "display_data"
    }
   ],
   "source": [
    "plt.plot(loss[1:,1])\n",
    "plt.scatter(93,loss[93,1], c='r', label = 'the model subsequent experiments were done with')\n",
    "plt.title('Loss')\n",
    "plt.xlabel('epoch')\n",
    "plt.ylabel('loss')\n",
    "plt.legend()\n",
    "plt.show()"
   ]
  },
  {
   "cell_type": "code",
   "execution_count": 5,
   "metadata": {},
   "outputs": [],
   "source": [
    "gt_base_path = 'Silver-standard-ML/'\n",
    "pred_base_path = 'SkolBrainet/predictions/'"
   ]
  },
  {
   "cell_type": "code",
   "execution_count": 7,
   "metadata": {},
   "outputs": [],
   "source": [
    "path = pred_base_path + os.listdir(pred_base_path)[1]  \n",
    "test = np.load(path)"
   ]
  },
  {
   "cell_type": "code",
   "execution_count": 8,
   "metadata": {},
   "outputs": [
    {
     "data": {
      "text/plain": [
       "<matplotlib.image.AxesImage at 0x7ff6d16bedd0>"
      ]
     },
     "execution_count": 8,
     "metadata": {},
     "output_type": "execute_result"
    },
    {
     "data": {
      "image/png": "[encoded data removed]",
      "text/plain": [
       "<Figure size 432x288 with 1 Axes>"
      ]
     },
     "metadata": {
      "needs_background": "light"
     },
     "output_type": "display_data"
    }
   ],
   "source": [
    "plt.imshow(test[100,:,:])"
   ]
  },
  {
   "cell_type": "markdown",
   "metadata": {},
   "source": [
    "# Dice scores"
   ]
  },
  {
   "cell_type": "code",
   "execution_count": 14,
   "metadata": {},
   "outputs": [],
   "source": [
    "pred = {}\n",
    "for name in os.listdir(pred_base_path):\n",
    "    scan_N = int(name.split('_')[2][2:])\n",
    "    path = pred_base_path + name  \n",
    "    file = np.load(path)\n",
    "    pred[scan_N] = file"
   ]
  },
  {
   "cell_type": "code",
   "execution_count": 33,
   "metadata": {},
   "outputs": [
    {
     "name": "stderr",
     "output_type": "stream",
     "text": [
      "100%|██████████| 359/359 [00:29<00:00, 12.38it/s]\n"
     ]
    }
   ],
   "source": [
    "gt = {}\n",
    "crop_size = 65\n",
    "padding = crop_size // 2\n",
    "pad = ((padding, padding), (padding, padding), (padding, padding))\n",
    "imgsPredicted = list(pred.keys())\n",
    "for name in tqdm(os.listdir(gt_base_path)):\n",
    "    scan_N = int(name.split('_')[0][2:])\n",
    "    if scan_N in imgsPredicted:\n",
    "        path = gt_base_path + name  \n",
    "        img = nib.load(path)\n",
    "        data = img.get_fdata()\n",
    "        padded_gt = np.pad(data, pad)\n",
    "        gt[scan_N] = padded_gt"
   ]
  },
  {
   "cell_type": "code",
   "execution_count": 38,
   "metadata": {},
   "outputs": [],
   "source": [
    "dices = {}"
   ]
  },
  {
   "cell_type": "code",
   "execution_count": 39,
   "metadata": {},
   "outputs": [
    {
     "name": "stderr",
     "output_type": "stream",
     "text": [
      "100%|██████████| 236/236 [00:11<00:00, 21.41it/s]\n"
     ]
    }
   ],
   "source": [
    "for N in tqdm(imgsPredicted):\n",
    "    dices[N] = dc(pred[N],gt[N])"
   ]
  },
  {
   "cell_type": "code",
   "execution_count": 64,
   "metadata": {},
   "outputs": [],
   "source": [
    "dicesForDomains = {}\n",
    "for name in os.listdir(pred_base_path):\n",
    "    domain = name.split('_')[3] + name.split('_')[4]\n",
    "    scan_N = int(name.split('_')[2][2:])\n",
    "    if domain == 'siemens15':\n",
    "        if scan_N >= 120 and scan_N <= 169:\n",
    "            domain = domain +'_train'\n",
    "        else:\n",
    "            domain = domain +'_rest_of_the_domain'\n",
    "    if domain in dicesForDomains.keys():\n",
    "        dicesForDomains[domain].append([scan_N, dices[scan_N]])\n",
    "    else:\n",
    "        dicesForDomains[domain] = [[scan_N, dices[scan_N]]]"
   ]
  },
  {
   "cell_type": "code",
   "execution_count": 66,
   "metadata": {},
   "outputs": [
    {
     "name": "stdout",
     "output_type": "stream",
     "text": [
      "ge3 : 60 scans\n",
      "philips3 : 55 scans\n",
      "ge15 : 60 scans\n",
      "siemens15_train : 50 scans\n",
      "siemens15_rest_of_the_domain : 10 scans\n",
      "philips15 : 1 scans\n"
     ]
    }
   ],
   "source": [
    "for key in dicesForDomains.keys():\n",
    "    print(key, ':', len(dicesForDomains[key]), 'scans') "
   ]
  },
  {
   "cell_type": "code",
   "execution_count": 111,
   "metadata": {},
   "outputs": [
    {
     "name": "stdout",
     "output_type": "stream",
     "text": [
      "siemens15_train : 50 scans; dice =  0.973 +- 0.004\n",
      "siemens15_rest_of_the_domain : 10 scans; dice =  0.973 +- 0.003\n",
      "philips15 : 1 scans; dice =  0.962 +- 0.0\n",
      "ge15 : 60 scans; dice =  0.955 +- 0.011\n",
      "philips3 : 55 scans; dice =  0.95 +- 0.02\n",
      "ge3 : 60 scans; dice =  0.947 +- 0.033\n"
     ]
    }
   ],
   "source": [
    "domains_list = ['siemens15_train', 'siemens15_rest_of_the_domain','philips15', 'ge15', 'philips3', 'ge3']\n",
    "avg_arr = []\n",
    "std_arr = []\n",
    "number_scans = []\n",
    "\n",
    "for key in domains_list: \n",
    "    avg = np.array(dicesForDomains[key])[:,1].mean()\n",
    "    std = np.array(dicesForDomains[key])[:,1].std()\n",
    "    print(key, ':', len(dicesForDomains[key]), 'scans; dice = ', round(avg,3), '+-', round(std,3)) \n",
    "    \n",
    "    avg_arr.append(round(avg,3))\n",
    "    std_arr.append(round(std,3))\n",
    "    number_scans.append(len(dicesForDomains[key]))"
   ]
  },
  {
   "cell_type": "code",
   "execution_count": 112,
   "metadata": {},
   "outputs": [],
   "source": [
    "a = pd.DataFrame(np.array([avg_arr, std_arr, number_scans]),\n",
    "                   columns=domains_list)\n",
    "a = a.T\n",
    "a.columns = ['dice','std','number_of_scans']\n",
    "a.number_of_scans = a.number_of_scans.astype(int)"
   ]
  },
  {
   "cell_type": "code",
   "execution_count": 113,
   "metadata": {},
   "outputs": [
    {
     "data": {
      "text/html": [
       "<div>\n",
       "<style scoped>\n",
       "    .dataframe tbody tr th:only-of-type {\n",
       "        vertical-align: middle;\n",
       "    }\n",
       "\n",
       "    .dataframe tbody tr th {\n",
       "        vertical-align: top;\n",
       "    }\n",
       "\n",
       "    .dataframe thead th {\n",
       "        text-align: right;\n",
       "    }\n",
       "</style>\n",
       "<table border=\"1\" class=\"dataframe\">\n",
       "  <thead>\n",
       "    <tr style=\"text-align: right;\">\n",
       "      <th></th>\n",
       "      <th>dice</th>\n",
       "      <th>std</th>\n",
       "      <th>number_of_scans</th>\n",
       "    </tr>\n",
       "  </thead>\n",
       "  <tbody>\n",
       "    <tr>\n",
       "      <th>siemens15_train</th>\n",
       "      <td>0.973</td>\n",
       "      <td>0.004</td>\n",
       "      <td>50</td>\n",
       "    </tr>\n",
       "    <tr>\n",
       "      <th>siemens15_rest_of_the_domain</th>\n",
       "      <td>0.973</td>\n",
       "      <td>0.003</td>\n",
       "      <td>10</td>\n",
       "    </tr>\n",
       "    <tr>\n",
       "      <th>philips15</th>\n",
       "      <td>0.962</td>\n",
       "      <td>0.000</td>\n",
       "      <td>1</td>\n",
       "    </tr>\n",
       "    <tr>\n",
       "      <th>ge15</th>\n",
       "      <td>0.955</td>\n",
       "      <td>0.011</td>\n",
       "      <td>60</td>\n",
       "    </tr>\n",
       "    <tr>\n",
       "      <th>philips3</th>\n",
       "      <td>0.950</td>\n",
       "      <td>0.020</td>\n",
       "      <td>55</td>\n",
       "    </tr>\n",
       "    <tr>\n",
       "      <th>ge3</th>\n",
       "      <td>0.947</td>\n",
       "      <td>0.033</td>\n",
       "      <td>60</td>\n",
       "    </tr>\n",
       "  </tbody>\n",
       "</table>\n",
       "</div>"
      ],
      "text/plain": [
       "                               dice    std  number_of_scans\n",
       "siemens15_train               0.973  0.004               50\n",
       "siemens15_rest_of_the_domain  0.973  0.003               10\n",
       "philips15                     0.962  0.000                1\n",
       "ge15                          0.955  0.011               60\n",
       "philips3                      0.950  0.020               55\n",
       "ge3                           0.947  0.033               60"
      ]
     },
     "execution_count": 113,
     "metadata": {},
     "output_type": "execute_result"
    }
   ],
   "source": [
    "a"
   ]
  },
  {
   "cell_type": "code",
   "execution_count": null,
   "metadata": {},
   "outputs": [],
   "source": []
  }
 ],
 "metadata": {
  "kernelspec": {
   "display_name": "Python 3",
   "language": "python",
   "name": "python3"
  },
  "language_info": {
   "codemirror_mode": {
    "name": "ipython",
    "version": 3
   },
   "file_extension": ".py",
   "mimetype": "text/x-python",
   "name": "python",
   "nbconvert_exporter": "python",
   "pygments_lexer": "ipython3",
   "version": "3.7.4"
  }
 },
 "nbformat": 4,
 "nbformat_minor": 2
}
