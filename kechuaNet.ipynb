{
  "nbformat": 4,
  "nbformat_minor": 0,
  "metadata": {
    "kernelspec": {
      "name": "python3",
      "display_name": "Python 3"
    },
    "language_info": {
      "codemirror_mode": {
        "name": "ipython",
        "version": 3
      },
      "file_extension": ".py",
      "mimetype": "text/x-python",
      "name": "python",
      "nbconvert_exporter": "python",
      "pygments_lexer": "ipython3",
      "version": "3.6.8"
    },
    "colab": {
      "name": "kechuaNet.ipynb",
      "provenance": [],
      "collapsed_sections": []
    },
    "accelerator": "GPU"
  },
  "cells": [
    {
      "cell_type": "code",
      "metadata": {
        "id": "_zxfFG3HPWsW",
        "colab_type": "code",
        "colab": {}
      },
      "source": [
        "# !unzip kichua.zip\n",
        "# !unzip -o kichua_validation.zip;\n",
        "# !pip install medpy"
      ],
      "execution_count": 0,
      "outputs": []
    },
    {
      "cell_type": "code",
      "metadata": {
        "id": "tn3P_j9OO8Jc",
        "colab_type": "code",
        "colab": {}
      },
      "source": [
        "import torch\n",
        "from torch import nn\n",
        "import torch.nn.functional as F\n",
        "from torch.utils import data\n",
        "import torch.optim as optim\n",
        "import numpy as np\n",
        "import nibabel as nib\n",
        "import random\n",
        "import matplotlib.pyplot as plt\n",
        "import os\n",
        "import re\n",
        "from copy import deepcopy\n",
        "import pandas as pd\n",
        "from tqdm  import tqdm\n",
        "from medpy.metric.binary import dc\n",
        "from scipy import signal"
      ],
      "execution_count": 0,
      "outputs": []
    },
    {
      "cell_type": "code",
      "metadata": {
        "id": "A0q-r9LKO8Jx",
        "colab_type": "code",
        "colab": {}
      },
      "source": [
        "######### PARAMETERS \n",
        "\n",
        "gt_base_path = 'gt'\n",
        "img_base_path = 'img'\n",
        "\n",
        "######### PARAMETERS \n",
        "train = True\n",
        "\n",
        "raw_img_filenames = os.listdir(img_base_path)"
      ],
      "execution_count": 0,
      "outputs": []
    },
    {
      "cell_type": "code",
      "metadata": {
        "id": "NtCUt9bw2_8-",
        "colab_type": "code",
        "colab": {}
      },
      "source": [
        "max_idx = 169\n",
        "min_idx = 120\n",
        "index_reg_exp = 'CC(.*?)_'\n",
        "\n",
        "def filter_function(file_name):\n",
        "  index = re.findall(index_reg_exp, file_name)[0]  \n",
        "  index = int(index)\n",
        "  if min_idx <= index <= max_idx:\n",
        "    return True\n",
        "  return False\n",
        "\n",
        "img_filenames = []\n",
        "for file_name in raw_img_filenames:\n",
        "  if filter_function(file_name):\n",
        "    img_filenames.append(file_name)"
      ],
      "execution_count": 0,
      "outputs": []
    },
    {
      "cell_type": "code",
      "metadata": {
        "id": "JvJipEw_O8KP",
        "colab_type": "code",
        "colab": {}
      },
      "source": [
        "gt_filenames = []\n",
        "for img_filename in img_filenames:\n",
        "    comma_idx = img_filename.find('.')\n",
        "    gt_file_name = img_filename[:comma_idx] + '_ss' + img_filename[comma_idx:]    \n",
        "    gt_filenames.append(gt_file_name)"
      ],
      "execution_count": 0,
      "outputs": []
    },
    {
      "cell_type": "code",
      "metadata": {
        "id": "NywbCdIQO8KZ",
        "colab_type": "code",
        "outputId": "40644b46-1b03-4a9b-dfe2-df1bfc8c9b97",
        "colab": {
          "base_uri": "https://localhost:8080/",
          "height": 35
        }
      },
      "source": [
        "print('Files count', len(img_filenames))"
      ],
      "execution_count": 6,
      "outputs": [
        {
          "output_type": "stream",
          "text": [
            "Files count 2\n"
          ],
          "name": "stdout"
        }
      ]
    },
    {
      "cell_type": "code",
      "metadata": {
        "id": "La8-yufnO8Kn",
        "colab_type": "code",
        "colab": {}
      },
      "source": [
        "def loader(path):\n",
        "    data = nib.load(path)\n",
        "    img = data.get_fdata()\n",
        "    return img\n",
        "\n",
        "imgs = []\n",
        "gts = []\n",
        "for img_filename, gt_filename  in zip(img_filenames, gt_filenames):\n",
        "    gt_path = os.path.join(gt_base_path, gt_filename)\n",
        "    img_path = os.path.join(img_base_path, img_filename)    \n",
        "\n",
        "    gt = loader(gt_path)\n",
        "    img = loader(img_path)\n",
        "    \n",
        "    imgs.append(img)\n",
        "    gts.append(gt)"
      ],
      "execution_count": 0,
      "outputs": []
    },
    {
      "cell_type": "code",
      "metadata": {
        "id": "TT44KUpMO8LA",
        "colab_type": "code",
        "colab": {}
      },
      "source": [
        "def crop(img, gt, voxes_size, mini_voxel_size, start_coordinates):\n",
        "    img_size = np.array(img.shape)\n",
        "    gt_size = np.array(gt.shape)\n",
        "    start_coordinates = np.array(start_coordinates)\n",
        "    \n",
        "    end_coordinates = start_coordinates + voxes_size\n",
        "    if not np.all(end_coordinates < img_size):\n",
        "        raise AttributeError('Crop is outsize of image')\n",
        "       \n",
        "    cropped_img = img[\n",
        "        start_coordinates[0]:end_coordinates[0],\n",
        "        start_coordinates[1]:end_coordinates[1],\n",
        "        start_coordinates[2]:end_coordinates[2]\n",
        "    ]\n",
        "    \n",
        "    assert np.all(np.array(cropped_img.shape) == voxes_size)\n",
        "    \n",
        "    \n",
        "    cropped_gt_start = (end_coordinates + start_coordinates) // 2 - mini_voxel_size // 2\n",
        "    \n",
        "    cropped_gt_end = cropped_gt_start + mini_voxel_size \n",
        "    \n",
        "    cropped_gt = gt[\n",
        "        cropped_gt_start[0]:cropped_gt_end[0],\n",
        "        cropped_gt_start[1]:cropped_gt_end[1],\n",
        "        cropped_gt_start[2]:cropped_gt_end[2]\n",
        "    ]\n",
        "    \n",
        "    assert np.all(np.array(cropped_gt.shape) == mini_voxel_size)\n",
        "    \n",
        "    return cropped_img, cropped_gt"
      ],
      "execution_count": 0,
      "outputs": []
    },
    {
      "cell_type": "code",
      "metadata": {
        "id": "CMx_Rem1O8LK",
        "colab_type": "code",
        "colab": {}
      },
      "source": [
        "def augmentation(imgs, gts):\n",
        "  augmentation_imgs = []\n",
        "  augmentation_gts = []\n",
        "\n",
        "  for idx in range(len(imgs)):\n",
        "    augmentation_imgs.append(\n",
        "        imgs[idx][:,:,::-1].copy()\n",
        "    )\n",
        "    \n",
        "    augmentation_gts.append(\n",
        "        gts[idx][:,:,::-1].copy()\n",
        "    )\n",
        "    \n",
        "  return imgs + augmentation_imgs, gts + augmentation_gts\n",
        "\n",
        "\n",
        "class MriDataset(data.Dataset):\n",
        "    def __init__(self, X, y, crop_size, mini_crop_size, crops_per_image, crop_function):\n",
        "        super(MriDataset)\n",
        "        self.X = [x / x.max() for x in X]        \n",
        "        self.y = y\n",
        "        self.crop_size = crop_size\n",
        "        self.mini_crop_size = mini_crop_size\n",
        "        self.crops_per_image = crops_per_image\n",
        "        self.crops_per_image = crops_per_image\n",
        "        self.crop_function = crop_function\n",
        "        self.crops, self.img_idxs = self.create_crops()\n",
        "\n",
        "        permutation = np.random.permutation(len(self.crops))\n",
        "        self.crops = np.array(self.crops)[permutation]\n",
        "        self.img_idxs = np.array(self.img_idxs)[permutation]              \n",
        "        \n",
        "    def create_crops(self):\n",
        "        crops = []\n",
        "        img_idxs = []\n",
        "        \n",
        "        for i in range(len(self.X)):\n",
        "            x_shape = np.array(self.X[i].shape)\n",
        "            y_shape = np.array(self.y[i].shape)\n",
        "            \n",
        "            sub_crops = []\n",
        "            for j in range(self.crops_per_image):\n",
        "                x_max = x_shape[0] - self.crop_size\n",
        "                y_max = x_shape[1] - self.crop_size\n",
        "                z_max = x_shape[2] - self.crop_size\n",
        "                \n",
        "                x = np.random.randint(0, x_max)\n",
        "                y = np.random.randint(0, y_max)\n",
        "                z = np.random.randint(0, z_max)\n",
        "                \n",
        "                crops.append([x, y, z])                \n",
        "                img_idxs.append(i)\n",
        "            \n",
        "        return crops, img_idxs\n",
        "        \n",
        "    def __len__(self):\n",
        "        return len(self.X) * self.crops_per_image\n",
        "    \n",
        "    def __getitem__(self, idx):\n",
        "        crop = self.crops[idx]\n",
        "        img = self.X[self.img_idxs[idx]]\n",
        "        gt = self.y[self.img_idxs[idx]]\n",
        "        x, y = self.crop_function(img, gt, self.crop_size, self.mini_crop_size, crop)\n",
        "\n",
        "        return torch.Tensor(x[None,:,:,:]), torch.Tensor(y[None,:,:,:])"
      ],
      "execution_count": 0,
      "outputs": []
    },
    {
      "cell_type": "code",
      "metadata": {
        "id": "7KKkzdC3O8LR",
        "colab_type": "code",
        "colab": {}
      },
      "source": [
        "class Net(nn.Module):\n",
        "    def __init__(self):\n",
        "        super(Net, self).__init__()\n",
        "        self.conv_layer1 = self._make_conv_layer(out_channels=16, k_size=4)\n",
        "        self.conv_layer2 = self._make_conv_layer(in_channels=16, out_channels=24)\n",
        "        self.conv_layer3 = self._make_conv_layer(in_channels=24, out_channels=28)\n",
        "        self.conv_layer4 = self._make_conv_layer(in_channels=28, out_channels=34)\n",
        "        self.conv_layer5 = self._make_conv_layer(in_channels=34, out_channels=42)\n",
        "        self.conv_layer6 = self._make_conv_layer(in_channels=42, out_channels=50)\n",
        "        self.conv_layer7 = self._make_conv_layer(in_channels=50, out_channels=50)\n",
        "        self.final_layer = self._make_conv_layer(in_channels=50, out_channels=1, activation=False)\n",
        "\n",
        "    def forward(self, x):\n",
        "\n",
        "        x = self.conv_layer1(x)\n",
        "        # Max pooling over a (2, 2, 2) window\n",
        "        x = F.max_pool3d(x, (2, 2, 2))\n",
        "        x = self.conv_layer2(x)\n",
        "        x = self.conv_layer3(x)\n",
        "        x = self.conv_layer4(x)\n",
        "        x = self.conv_layer5(x)\n",
        "        x = self.conv_layer6(x)\n",
        "        x = self.conv_layer7(x)\n",
        "        x = self.final_layer(x)\n",
        "        x = torch.sigmoid(x)\n",
        "\n",
        "        return x\n",
        "\n",
        "    @staticmethod\n",
        "    def _make_conv_layer(out_channels, in_channels=1, k_size=5, activation=True):\n",
        "        if activation:\n",
        "            conv_layer = nn.Sequential(\n",
        "                nn.Conv3d(in_channels=in_channels, out_channels=out_channels, kernel_size=(k_size, k_size, k_size),\n",
        "                          padding=0),\n",
        "                nn.LeakyReLU(),  # (!)Think of padding(!)\n",
        "            )\n",
        "        else:\n",
        "            conv_layer = nn.Conv3d(in_channels=in_channels, out_channels=out_channels,\n",
        "                                   kernel_size=(k_size, k_size, k_size), padding=2)\n",
        "\n",
        "        return conv_layer"
      ],
      "execution_count": 0,
      "outputs": []
    },
    {
      "cell_type": "code",
      "metadata": {
        "id": "etsgF7h7O8LY",
        "colab_type": "code",
        "outputId": "a4225934-853c-48d6-ace8-ce72864dc298",
        "colab": {
          "base_uri": "https://localhost:8080/",
          "height": 35
        }
      },
      "source": [
        "batch_size = 4\n",
        "epochs = 100000000\n",
        "crops_per_image = 500\n",
        "lr = 1e-5\n",
        "epochs_per_save = 1\n",
        "\n",
        "crop_size = 65\n",
        "mini_crop_size = 7\n",
        "\n",
        "device = torch.device('cpu')\n",
        "if torch.cuda.is_available():\n",
        "    print('GPU !!!')\n",
        "    device = torch.device('cuda:0')"
      ],
      "execution_count": 10,
      "outputs": [
        {
          "output_type": "stream",
          "text": [
            "GPU !!!\n"
          ],
          "name": "stdout"
        }
      ]
    },
    {
      "cell_type": "code",
      "metadata": {
        "id": "oo-JRzR5ymxp",
        "colab_type": "code",
        "colab": {}
      },
      "source": [
        "if not os.path.exists('models'):\n",
        "  os.mkdir('models')"
      ],
      "execution_count": 0,
      "outputs": []
    },
    {
      "cell_type": "code",
      "metadata": {
        "id": "BIAnWTJ9781Q",
        "colab_type": "code",
        "outputId": "30b39621-4fbb-4ab1-9b83-5d6d658ee9d0",
        "colab": {
          "base_uri": "https://localhost:8080/",
          "height": 35
        }
      },
      "source": [
        "net = Net().to(device)\n",
        "criterion = nn.BCELoss()\n",
        "optimizer = optim.Adam(net.parameters(), lr=lr)  # lr = 1e-5 in the original paper\n",
        "\n",
        "augmentation_imgs, augmentation_gts = augmentation(imgs, gts)\n",
        "mri_dataset = MriDataset(augmentation_imgs, augmentation_gts, crop_size, mini_crop_size, crops_per_image, crop_function=crop)\n",
        "mri_dataset[len(mri_dataset) - 1]\n",
        "mri_dataloader = data.DataLoader(mri_dataset, batch_size)\n",
        "assert len(mri_dataset) == len(augmentation_imgs) * crops_per_image\n",
        "print(len(mri_dataset))"
      ],
      "execution_count": 12,
      "outputs": [
        {
          "output_type": "stream",
          "text": [
            "1200\n"
          ],
          "name": "stdout"
        }
      ]
    },
    {
      "cell_type": "code",
      "metadata": {
        "id": "RdqSTGwXO8Ld",
        "colab_type": "code",
        "outputId": "f95cd96d-60ed-43ed-8366-bb0d497feb02",
        "colab": {
          "base_uri": "https://localhost:8080/",
          "height": 817
        }
      },
      "source": [
        "if train:\n",
        "  total_losses = []\n",
        "\n",
        "  for epoch in range(epochs):\n",
        "      losses = []\n",
        "      for x, y in tqdm(mri_dataloader):\n",
        "          x, y = x.to(device), y.to(device)        \n",
        "          \n",
        "          optimizer.zero_grad()        \n",
        "          outputs = net(x)\n",
        "          loss = criterion(outputs, y)\n",
        "          losses.append(loss.detach().cpu().item())\n",
        "          \n",
        "          loss.backward()\n",
        "          optimizer.step()\n",
        "          del x\n",
        "          del y\n",
        "      if epoch % epochs_per_save == 0:\n",
        "        print(epoch)\n",
        "        torch.save(net.state_dict(), os.path.join('models', f'model_epoch_{epoch:03}'))\n",
        "      \n",
        "      mean_loss = np.mean(losses)\n",
        "      total_losses.append(mean_loss)\n",
        "      \n",
        "      pd.DataFrame(total_losses).to_csv('loss.csv', index='Epoch')\n",
        "      print('iter', epoch, ':', mean_loss)\n",
        "else:\n",
        "    net.load_state_dict(torch.load(\"model_epoch_100\"))\n",
        "    net.to(device)\n",
        "    print('Loaded!')"
      ],
      "execution_count": 18,
      "outputs": [
        {
          "output_type": "stream",
          "text": [
            "100%|██████████| 19/19 [00:21<00:00,  1.16s/it]\n"
          ],
          "name": "stderr"
        },
        {
          "output_type": "stream",
          "text": [
            "0\n"
          ],
          "name": "stdout"
        },
        {
          "output_type": "stream",
          "text": [
            "\r  0%|          | 0/19 [00:00<?, ?it/s]"
          ],
          "name": "stderr"
        },
        {
          "output_type": "stream",
          "text": [
            "iter 0 : 0.12707802810167013\n"
          ],
          "name": "stdout"
        },
        {
          "output_type": "stream",
          "text": [
            "100%|██████████| 19/19 [00:22<00:00,  1.17s/it]\n"
          ],
          "name": "stderr"
        },
        {
          "output_type": "stream",
          "text": [
            "1\n"
          ],
          "name": "stdout"
        },
        {
          "output_type": "stream",
          "text": [
            "\r  0%|          | 0/19 [00:00<?, ?it/s]"
          ],
          "name": "stderr"
        },
        {
          "output_type": "stream",
          "text": [
            "iter 1 : 0.12498939978448968\n"
          ],
          "name": "stdout"
        },
        {
          "output_type": "stream",
          "text": [
            "100%|██████████| 19/19 [00:21<00:00,  1.16s/it]\n"
          ],
          "name": "stderr"
        },
        {
          "output_type": "stream",
          "text": [
            "2\n"
          ],
          "name": "stdout"
        },
        {
          "output_type": "stream",
          "text": [
            "\r  0%|          | 0/19 [00:00<?, ?it/s]"
          ],
          "name": "stderr"
        },
        {
          "output_type": "stream",
          "text": [
            "iter 2 : 0.12222849538451747\n"
          ],
          "name": "stdout"
        },
        {
          "output_type": "stream",
          "text": [
            "100%|██████████| 19/19 [00:22<00:00,  1.16s/it]\n"
          ],
          "name": "stderr"
        },
        {
          "output_type": "stream",
          "text": [
            "3\n"
          ],
          "name": "stdout"
        },
        {
          "output_type": "stream",
          "text": [
            "\r  0%|          | 0/19 [00:00<?, ?it/s]"
          ],
          "name": "stderr"
        },
        {
          "output_type": "stream",
          "text": [
            "iter 3 : 0.11886340693423622\n"
          ],
          "name": "stdout"
        },
        {
          "output_type": "stream",
          "text": [
            "100%|██████████| 19/19 [00:22<00:00,  1.16s/it]\n"
          ],
          "name": "stderr"
        },
        {
          "output_type": "stream",
          "text": [
            "4\n"
          ],
          "name": "stdout"
        },
        {
          "output_type": "stream",
          "text": [
            "\r  0%|          | 0/19 [00:00<?, ?it/s]"
          ],
          "name": "stderr"
        },
        {
          "output_type": "stream",
          "text": [
            "iter 4 : 0.11697882825606748\n"
          ],
          "name": "stdout"
        },
        {
          "output_type": "stream",
          "text": [
            "100%|██████████| 19/19 [00:22<00:00,  1.16s/it]\n"
          ],
          "name": "stderr"
        },
        {
          "output_type": "stream",
          "text": [
            "5\n"
          ],
          "name": "stdout"
        },
        {
          "output_type": "stream",
          "text": [
            "\r  0%|          | 0/19 [00:00<?, ?it/s]"
          ],
          "name": "stderr"
        },
        {
          "output_type": "stream",
          "text": [
            "iter 5 : 0.11505899245017454\n"
          ],
          "name": "stdout"
        },
        {
          "output_type": "stream",
          "text": [
            "100%|██████████| 19/19 [00:22<00:00,  1.16s/it]\n"
          ],
          "name": "stderr"
        },
        {
          "output_type": "stream",
          "text": [
            "6\n"
          ],
          "name": "stdout"
        },
        {
          "output_type": "stream",
          "text": [
            "\r  0%|          | 0/19 [00:00<?, ?it/s]"
          ],
          "name": "stderr"
        },
        {
          "output_type": "stream",
          "text": [
            "iter 6 : 0.11233052297642357\n"
          ],
          "name": "stdout"
        },
        {
          "output_type": "stream",
          "text": [
            "100%|██████████| 19/19 [00:22<00:00,  1.16s/it]\n"
          ],
          "name": "stderr"
        },
        {
          "output_type": "stream",
          "text": [
            "7\n"
          ],
          "name": "stdout"
        },
        {
          "output_type": "stream",
          "text": [
            "\r  0%|          | 0/19 [00:00<?, ?it/s]"
          ],
          "name": "stderr"
        },
        {
          "output_type": "stream",
          "text": [
            "iter 7 : 0.10985372235116206\n"
          ],
          "name": "stdout"
        },
        {
          "output_type": "stream",
          "text": [
            "100%|██████████| 19/19 [00:21<00:00,  1.16s/it]\n"
          ],
          "name": "stderr"
        },
        {
          "output_type": "stream",
          "text": [
            "8\n"
          ],
          "name": "stdout"
        },
        {
          "output_type": "stream",
          "text": [
            "\r  0%|          | 0/19 [00:00<?, ?it/s]"
          ],
          "name": "stderr"
        },
        {
          "output_type": "stream",
          "text": [
            "iter 8 : 0.10814750292583515\n"
          ],
          "name": "stdout"
        },
        {
          "output_type": "stream",
          "text": [
            "100%|██████████| 19/19 [00:22<00:00,  1.16s/it]\n"
          ],
          "name": "stderr"
        },
        {
          "output_type": "stream",
          "text": [
            "9\n"
          ],
          "name": "stdout"
        },
        {
          "output_type": "stream",
          "text": [
            "\r  0%|          | 0/19 [00:00<?, ?it/s]"
          ],
          "name": "stderr"
        },
        {
          "output_type": "stream",
          "text": [
            "iter 9 : 0.10588467944609492\n"
          ],
          "name": "stdout"
        },
        {
          "output_type": "stream",
          "text": [
            "100%|██████████| 19/19 [00:22<00:00,  1.16s/it]\n"
          ],
          "name": "stderr"
        },
        {
          "output_type": "stream",
          "text": [
            "10\n"
          ],
          "name": "stdout"
        },
        {
          "output_type": "stream",
          "text": [
            "\r  0%|          | 0/19 [00:00<?, ?it/s]"
          ],
          "name": "stderr"
        },
        {
          "output_type": "stream",
          "text": [
            "iter 10 : 0.10344521250379712\n"
          ],
          "name": "stdout"
        },
        {
          "output_type": "stream",
          "text": [
            "100%|██████████| 19/19 [00:22<00:00,  1.16s/it]\n"
          ],
          "name": "stderr"
        },
        {
          "output_type": "stream",
          "text": [
            "11\n"
          ],
          "name": "stdout"
        },
        {
          "output_type": "stream",
          "text": [
            "\r  0%|          | 0/19 [00:00<?, ?it/s]"
          ],
          "name": "stderr"
        },
        {
          "output_type": "stream",
          "text": [
            "iter 11 : 0.1018131822347641\n"
          ],
          "name": "stdout"
        },
        {
          "output_type": "stream",
          "text": [
            "100%|██████████| 19/19 [00:22<00:00,  1.16s/it]\n"
          ],
          "name": "stderr"
        },
        {
          "output_type": "stream",
          "text": [
            "12\n"
          ],
          "name": "stdout"
        },
        {
          "output_type": "stream",
          "text": [
            "\r  0%|          | 0/19 [00:00<?, ?it/s]"
          ],
          "name": "stderr"
        },
        {
          "output_type": "stream",
          "text": [
            "iter 12 : 0.10014436237121883\n"
          ],
          "name": "stdout"
        },
        {
          "output_type": "stream",
          "text": [
            "100%|██████████| 19/19 [00:22<00:00,  1.16s/it]\n"
          ],
          "name": "stderr"
        },
        {
          "output_type": "stream",
          "text": [
            "13\n"
          ],
          "name": "stdout"
        },
        {
          "output_type": "stream",
          "text": [
            "\r  0%|          | 0/19 [00:00<?, ?it/s]"
          ],
          "name": "stderr"
        },
        {
          "output_type": "stream",
          "text": [
            "iter 13 : 0.09794029652288086\n"
          ],
          "name": "stdout"
        },
        {
          "output_type": "stream",
          "text": [
            "100%|██████████| 19/19 [00:22<00:00,  1.16s/it]\n"
          ],
          "name": "stderr"
        },
        {
          "output_type": "stream",
          "text": [
            "14\n",
            "iter 14 : 0.09604967561991591\n"
          ],
          "name": "stdout"
        }
      ]
    },
    {
      "cell_type": "code",
      "metadata": {
        "id": "9TEOjY5aT872",
        "colab_type": "code",
        "outputId": "9387ce57-c934-41ca-e223-a4ba5afdc746",
        "colab": {
          "base_uri": "https://localhost:8080/",
          "height": 1000
        }
      },
      "source": [
        "n = 1\n",
        "img = augmentation_imgs[n]\n",
        "gt = augmentation_gts[n]\n",
        "img = img / img.max()\n",
        "diff = crop_size // 2 - mini_crop_size // 2\n",
        "layer = 72\n",
        "pred_layer = layer - 32 + mini_crop_size // 2\n",
        "_, max_y, max_z = img.shape\n",
        "preds = np.zeros_like(img[0])\n",
        "coef = np.zeros_like(img[0])\n",
        "kernel = gkern(mini_crop_size, 5)\n",
        "batch = []\n",
        "for i in tqdm(range(0, max_z - crop_size, 3)):\n",
        "    for j in range(0, max_y - crop_size, 3):\n",
        "      pred_j = j + diff \n",
        "      pred_i = i + diff\n",
        "      vis_x, vis_y = crop(img, gt, crop_size, mini_crop_size, (pred_layer, j, i))  \n",
        "      pred_y = vis_y\n",
        "      pred_y = net(torch.Tensor(vis_x[None,None,:,:,:]).to(device))[0,0].data.cpu().numpy()      \n",
        "      preds[pred_j:pred_j + mini_crop_size, pred_i: pred_i + mini_crop_size] += pred_y[0] * 1\n",
        "      \n",
        "      coef[pred_j:pred_j + mini_crop_size, pred_i: pred_i + mini_crop_size] += 1\n",
        "\n",
        "coef[coef == 0] = 1\n",
        "preds = np.array(preds)"
      ],
      "execution_count": 143,
      "outputs": [
        {
          "output_type": "stream",
          "text": [
            "\n",
            "  0%|          | 0/64 [00:00<?, ?it/s]\u001b[A\n",
            "  2%|▏         | 1/64 [00:00<00:33,  1.86it/s]\u001b[A\n",
            "  3%|▎         | 2/64 [00:01<00:32,  1.90it/s]\u001b[A\n",
            "  5%|▍         | 3/64 [00:01<00:31,  1.93it/s]\u001b[A\n",
            "  6%|▋         | 4/64 [00:02<00:30,  1.96it/s]\u001b[A\n",
            "  8%|▊         | 5/64 [00:02<00:29,  1.97it/s]\u001b[A\n",
            "  9%|▉         | 6/64 [00:03<00:29,  1.98it/s]\u001b[A\n",
            " 11%|█         | 7/64 [00:03<00:28,  1.99it/s]\u001b[A\n",
            " 12%|█▎        | 8/64 [00:04<00:28,  2.00it/s]\u001b[A\n",
            " 14%|█▍        | 9/64 [00:04<00:27,  2.00it/s]\u001b[A\n",
            " 16%|█▌        | 10/64 [00:05<00:26,  2.01it/s]\u001b[A\n",
            " 17%|█▋        | 11/64 [00:05<00:26,  2.01it/s]\u001b[A\n",
            " 19%|█▉        | 12/64 [00:06<00:25,  2.01it/s]\u001b[A\n",
            " 20%|██        | 13/64 [00:06<00:25,  2.01it/s]\u001b[A\n",
            " 22%|██▏       | 14/64 [00:07<00:24,  2.01it/s]\u001b[A\n",
            " 23%|██▎       | 15/64 [00:07<00:24,  2.01it/s]\u001b[A\n",
            " 25%|██▌       | 16/64 [00:07<00:23,  2.01it/s]\u001b[A\n",
            " 27%|██▋       | 17/64 [00:08<00:23,  2.01it/s]\u001b[A\n",
            " 28%|██▊       | 18/64 [00:08<00:22,  2.01it/s]\u001b[A\n",
            " 30%|██▉       | 19/64 [00:09<00:22,  2.01it/s]\u001b[A\n",
            " 31%|███▏      | 20/64 [00:09<00:21,  2.00it/s]\u001b[A\n",
            " 33%|███▎      | 21/64 [00:10<00:21,  2.00it/s]\u001b[A\n",
            " 34%|███▍      | 22/64 [00:10<00:20,  2.00it/s]\u001b[A\n",
            " 36%|███▌      | 23/64 [00:11<00:20,  2.01it/s]\u001b[A\n",
            " 38%|███▊      | 24/64 [00:11<00:19,  2.01it/s]\u001b[A\n",
            " 39%|███▉      | 25/64 [00:12<00:19,  2.01it/s]\u001b[A\n",
            " 41%|████      | 26/64 [00:12<00:18,  2.00it/s]\u001b[A\n",
            " 42%|████▏     | 27/64 [00:13<00:18,  2.00it/s]\u001b[A\n",
            " 44%|████▍     | 28/64 [00:13<00:17,  2.00it/s]\u001b[A\n",
            " 45%|████▌     | 29/64 [00:14<00:17,  2.00it/s]\u001b[A\n",
            " 47%|████▋     | 30/64 [00:14<00:16,  2.00it/s]\u001b[A\n",
            " 48%|████▊     | 31/64 [00:15<00:16,  2.01it/s]\u001b[A\n",
            " 50%|█████     | 32/64 [00:15<00:15,  2.01it/s]\u001b[A\n",
            " 52%|█████▏    | 33/64 [00:16<00:15,  2.00it/s]\u001b[A\n",
            " 53%|█████▎    | 34/64 [00:16<00:15,  2.00it/s]\u001b[A\n",
            " 55%|█████▍    | 35/64 [00:17<00:14,  2.01it/s]\u001b[A\n",
            " 56%|█████▋    | 36/64 [00:17<00:13,  2.01it/s]\u001b[A\n",
            " 58%|█████▊    | 37/64 [00:18<00:13,  2.00it/s]\u001b[A\n",
            " 59%|█████▉    | 38/64 [00:18<00:12,  2.00it/s]\u001b[A\n",
            " 61%|██████    | 39/64 [00:19<00:12,  2.01it/s]\u001b[A\n",
            " 62%|██████▎   | 40/64 [00:19<00:11,  2.00it/s]\u001b[A\n",
            " 64%|██████▍   | 41/64 [00:20<00:11,  2.00it/s]\u001b[A\n",
            " 66%|██████▌   | 42/64 [00:20<00:10,  2.00it/s]\u001b[A\n",
            " 67%|██████▋   | 43/64 [00:21<00:10,  2.00it/s]\u001b[A\n",
            " 69%|██████▉   | 44/64 [00:21<00:10,  2.00it/s]\u001b[A\n",
            " 70%|███████   | 45/64 [00:22<00:09,  2.00it/s]\u001b[A\n",
            " 72%|███████▏  | 46/64 [00:22<00:09,  2.00it/s]\u001b[A\n",
            " 73%|███████▎  | 47/64 [00:23<00:08,  2.00it/s]\u001b[A\n",
            " 75%|███████▌  | 48/64 [00:23<00:08,  2.00it/s]\u001b[A\n",
            " 77%|███████▋  | 49/64 [00:24<00:07,  1.99it/s]\u001b[A\n",
            " 78%|███████▊  | 50/64 [00:24<00:07,  2.00it/s]\u001b[A\n",
            " 80%|███████▉  | 51/64 [00:25<00:06,  2.01it/s]\u001b[A\n",
            " 81%|████████▏ | 52/64 [00:25<00:05,  2.01it/s]\u001b[A\n",
            " 83%|████████▎ | 53/64 [00:26<00:05,  2.01it/s]\u001b[A\n",
            " 84%|████████▍ | 54/64 [00:26<00:04,  2.01it/s]\u001b[A\n",
            " 86%|████████▌ | 55/64 [00:27<00:04,  2.01it/s]\u001b[A\n",
            " 88%|████████▊ | 56/64 [00:27<00:03,  2.01it/s]\u001b[A\n",
            " 89%|████████▉ | 57/64 [00:28<00:03,  2.01it/s]\u001b[A\n",
            " 91%|█████████ | 58/64 [00:28<00:02,  2.01it/s]\u001b[A\n",
            " 92%|█████████▏| 59/64 [00:29<00:02,  2.01it/s]\u001b[A\n",
            " 94%|█████████▍| 60/64 [00:29<00:01,  2.00it/s]\u001b[A\n",
            " 95%|█████████▌| 61/64 [00:30<00:01,  2.00it/s]\u001b[A\n",
            " 97%|█████████▋| 62/64 [00:30<00:01,  2.00it/s]\u001b[A\n",
            " 98%|█████████▊| 63/64 [00:31<00:00,  2.00it/s]\u001b[A\n",
            "100%|██████████| 64/64 [00:31<00:00,  2.00it/s]\n"
          ],
          "name": "stderr"
        }
      ]
    },
    {
      "cell_type": "code",
      "metadata": {
        "id": "7Ph0Z2ZWlFFY",
        "colab_type": "code",
        "colab": {
          "base_uri": "https://localhost:8080/",
          "height": 462
        },
        "outputId": "1f811787-a87c-48a1-e2eb-1c91d22c2507"
      },
      "source": [
        "fig, (pred_axis, gt_axis) = plt.subplots(1, 2, figsize=(15,7))\n",
        "pred_img = (preds / coef) > 0.5\n",
        "pred_axis.imshow(pred_img)\n",
        "pred_axis.set_title('Prediction')\n",
        "\n",
        "gt_axis.imshow(gt[layer])\n",
        "gt_axis.set_title('Target');\n",
        "# (preds != gt[layer]).sum()\n",
        "dc(pred_img, gt[layer]), np.allclose(pred_img, gt[layer])\n"
      ],
      "execution_count": 152,
      "outputs": [
        {
          "output_type": "execute_result",
          "data": {
            "text/plain": [
              "(0.9487006412419845, False)"
            ]
          },
          "metadata": {
            "tags": []
          },
          "execution_count": 152
        },
        {
          "output_type": "display_data",
          "data": {
            "image/png": "[encoded data removed]",
            "text/plain": [
              "<Figure size 1080x504 with 2 Axes>"
            ]
          },
          "metadata": {
            "tags": []
          }
        }
      ]
    }
  ]
}